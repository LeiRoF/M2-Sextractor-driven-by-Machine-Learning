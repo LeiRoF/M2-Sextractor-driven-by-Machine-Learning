{
 "cells": [
  {
   "cell_type": "code",
   "execution_count": 1,
   "metadata": {},
   "outputs": [],
   "source": [
    "import numpy as np\n",
    "import matplotlib.pyplot as plt\n",
    "from LRFutils import log, color, archive\n",
    "from multiprocessing import Pool\n",
    "\n",
    "from src.sky import Sky\n",
    "from src.pupil import Pupil\n",
    "from src.shot import Shot"
   ]
  },
  {
   "cell_type": "markdown",
   "metadata": {},
   "source": [
    "---\n",
    "# Config"
   ]
  },
  {
   "cell_type": "markdown",
   "metadata": {},
   "source": [
    "## Sky"
   ]
  },
  {
   "cell_type": "code",
   "execution_count": 2,
   "metadata": {},
   "outputs": [],
   "source": [
    "N = 1000 # Image size (in pixels)\n",
    "nb_stars = 100 # Number of stars\n",
    "fwhm = 3 # fwhm of all stars\n",
    "mag = np.arange(0,6) # possible magnitudes of the stars\n",
    "mag_prob = np.arange(1,7)**2 # probability associated to each magnitude\n",
    "noise_mag = 4 # mean of the gaussian noise\n",
    "noise_std = 0.1 # standard deviation of the gaussian noise"
   ]
  },
  {
   "cell_type": "markdown",
   "metadata": {},
   "source": [
    "## Telescope"
   ]
  },
  {
   "cell_type": "code",
   "execution_count": 3,
   "metadata": {},
   "outputs": [],
   "source": [
    "pupil_radius = N/2.2 # Pupil radius (in pixels)\n",
    "obstruction_radius = N/20 # Obstruction radius (in pixels)\n",
    "arms_count = 3 # Number of arms\n",
    "arms_size = 5 # Arms size (in pixels)\n",
    "arms_angle = 0 # Arms angle (in degrees)"
   ]
  },
  {
   "cell_type": "markdown",
   "metadata": {},
   "source": [
    "---\n",
    "# Script"
   ]
  },
  {
   "cell_type": "code",
   "execution_count": 4,
   "metadata": {},
   "outputs": [],
   "source": [
    "import src.sky as test"
   ]
  },
  {
   "cell_type": "code",
   "execution_count": 5,
   "metadata": {},
   "outputs": [],
   "source": [
    "# Converting lists to numpy arrays 🚀\n",
    "mag = np.array(mag)\n",
    "mag_prob = np.array(mag_prob)\n",
    "\n",
    "# Defining coordinate grids 🧭\n",
    "X, Y = np.meshgrid(np.arange(N),np.arange(N))\n",
    "\n",
    "# Normalizing the probabilities 📊\n",
    "mag_prob = mag_prob/sum(mag_prob) # normalisation\n",
    "\n",
    "# Getting the luminosity for all stars 🔆\n",
    "mag_values = np.random.choice(mag, p=mag_prob, size=nb_stars)\n",
    "luminosities = test.mag_to_lum(mag_values)\n",
    "\n",
    "# Getting position of all stars 📍\n",
    "x = np.random.randint(N, size=nb_stars)\n",
    "y = np.random.randint(N, size=nb_stars)"
   ]
  },
  {
   "cell_type": "code",
   "execution_count": 7,
   "metadata": {},
   "outputs": [],
   "source": [
    "sky = Sky(N=N, nb_stars=nb_stars, fwhm=fwhm, mag=mag, mag_prob=mag_prob, noise_mag=noise_mag, noise_std=noise_std)\n",
    "sky.show()"
   ]
  },
  {
   "cell_type": "code",
   "execution_count": null,
   "metadata": {},
   "outputs": [],
   "source": [
    "pupil = Pupil(N, pupil_radius, obstruction_radius, arms_count, arms_size, arms_angle)\n",
    "pupil.show()"
   ]
  },
  {
   "cell_type": "code",
   "execution_count": null,
   "metadata": {},
   "outputs": [],
   "source": [
    "pupil.show_diffraction_profile()"
   ]
  },
  {
   "cell_type": "code",
   "execution_count": null,
   "metadata": {},
   "outputs": [],
   "source": [
    "shot = Shot(sky, pupil)\n",
    "shot.show()"
   ]
  }
 ],
 "metadata": {
  "kernelspec": {
   "display_name": "Python 3.10.8 64-bit (microsoft store)",
   "language": "python",
   "name": "python3"
  },
  "language_info": {
   "codemirror_mode": {
    "name": "ipython",
    "version": 3
   },
   "file_extension": ".py",
   "mimetype": "text/x-python",
   "name": "python",
   "nbconvert_exporter": "python",
   "pygments_lexer": "ipython3",
   "version": "3.10.8"
  },
  "orig_nbformat": 4,
  "vscode": {
   "interpreter": {
    "hash": "e0d398e7c3cc3d2b8386dfea47f5eae3378d5d39db7e2c8ef87e93246db0bfd2"
   }
  }
 },
 "nbformat": 4,
 "nbformat_minor": 2
}
